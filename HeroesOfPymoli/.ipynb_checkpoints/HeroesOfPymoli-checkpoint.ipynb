{
 "cells": [
  {
   "cell_type": "markdown",
   "metadata": {},
   "source": [
    "### Note\n",
    "* Instructions have been included for each segment. You do not have to follow them exactly, but they are included to help you think through the steps."
   ]
  },
  {
   "cell_type": "code",
   "execution_count": 1,
   "metadata": {},
   "outputs": [],
   "source": [
    "# Dependencies and Setup\n",
    "import pandas as pd\n",
    "import numpy as np\n",
    "\n",
    "# File to Load (Remember to Change These)\n",
    "file_to_load = \"Resources/purchase_data.csv\"\n",
    "\n",
    "# Read Purchasing File and store into Pandas data frame\n",
    "purchase_data = pd.read_csv(file_to_load)"
   ]
  },
  {
   "cell_type": "markdown",
   "metadata": {},
   "source": [
    "## Player Count"
   ]
  },
  {
   "cell_type": "markdown",
   "metadata": {},
   "source": [
    "* Display the total number of players\n"
   ]
  },
  {
   "cell_type": "code",
   "execution_count": 2,
   "metadata": {},
   "outputs": [
    {
     "data": {
      "text/html": [
       "<div>\n",
       "<style scoped>\n",
       "    .dataframe tbody tr th:only-of-type {\n",
       "        vertical-align: middle;\n",
       "    }\n",
       "\n",
       "    .dataframe tbody tr th {\n",
       "        vertical-align: top;\n",
       "    }\n",
       "\n",
       "    .dataframe thead th {\n",
       "        text-align: right;\n",
       "    }\n",
       "</style>\n",
       "<table border=\"1\" class=\"dataframe\">\n",
       "  <thead>\n",
       "    <tr style=\"text-align: right;\">\n",
       "      <th></th>\n",
       "      <th>Total Players</th>\n",
       "    </tr>\n",
       "  </thead>\n",
       "  <tbody>\n",
       "    <tr>\n",
       "      <th>0</th>\n",
       "      <td>576</td>\n",
       "    </tr>\n",
       "  </tbody>\n",
       "</table>\n",
       "</div>"
      ],
      "text/plain": [
       "   Total Players\n",
       "0            576"
      ]
     },
     "execution_count": 2,
     "metadata": {},
     "output_type": "execute_result"
    }
   ],
   "source": [
    "# Want to find the unique number of players so we do not account for duplicates. \n",
    "# You can then run the length of unique players to find the total amount of players\n",
    "total_players=len(purchase_data['SN'].unique())\n",
    "\n",
    "# Create a Data Frame with column: Total Players and results from total_players\n",
    "total_df=pd.DataFrame({\"Total Players\": [total_players]})\n",
    "total_df"
   ]
  },
  {
   "cell_type": "markdown",
   "metadata": {},
   "source": [
    "## Purchasing Analysis (Total)"
   ]
  },
  {
   "cell_type": "markdown",
   "metadata": {},
   "source": [
    "* Run basic calculations to obtain number of unique items, average price, etc.\n",
    "\n",
    "\n",
    "* Create a summary data frame to hold the results\n",
    "\n",
    "\n",
    "* Optional: give the displayed data cleaner formatting\n",
    "\n",
    "\n",
    "* Display the summary data frame\n"
   ]
  },
  {
   "cell_type": "code",
   "execution_count": 3,
   "metadata": {},
   "outputs": [
    {
     "data": {
      "text/html": [
       "<div>\n",
       "<style scoped>\n",
       "    .dataframe tbody tr th:only-of-type {\n",
       "        vertical-align: middle;\n",
       "    }\n",
       "\n",
       "    .dataframe tbody tr th {\n",
       "        vertical-align: top;\n",
       "    }\n",
       "\n",
       "    .dataframe thead th {\n",
       "        text-align: right;\n",
       "    }\n",
       "</style>\n",
       "<table border=\"1\" class=\"dataframe\">\n",
       "  <thead>\n",
       "    <tr style=\"text-align: right;\">\n",
       "      <th></th>\n",
       "      <th>Number of Unique Items</th>\n",
       "      <th>Average Price</th>\n",
       "      <th>Number of Purchases</th>\n",
       "      <th>Total Revenue</th>\n",
       "    </tr>\n",
       "  </thead>\n",
       "  <tbody>\n",
       "    <tr>\n",
       "      <th>0</th>\n",
       "      <td>179</td>\n",
       "      <td>$3.05</td>\n",
       "      <td>780</td>\n",
       "      <td>$2,379.77</td>\n",
       "    </tr>\n",
       "  </tbody>\n",
       "</table>\n",
       "</div>"
      ],
      "text/plain": [
       "   Number of Unique Items Average Price  Number of Purchases Total Revenue\n",
       "0                     179         $3.05                  780     $2,379.77"
      ]
     },
     "execution_count": 3,
     "metadata": {},
     "output_type": "execute_result"
    }
   ],
   "source": [
    "# Want to find the unique number of items so we do not account for duplicates. \n",
    "# You can then run the length of unique items to find the total amount of items bought.\n",
    "unique_items=len(purchase_data['Item ID'].unique())\n",
    "\n",
    "# Calculate the average price\n",
    "average_price=purchase_data['Price'].mean()\n",
    "\n",
    "# Calculate the total amount of purchases\n",
    "number_purchases=len(purchase_data)\n",
    "\n",
    "# Calculate the total amount of revenue\n",
    "total_revenue = (purchase_data[\"Price\"]).sum()\n",
    "\n",
    "# Create the Data Frame\n",
    "total_purchasing_df=pd.DataFrame({\n",
    "    \"Number of Unique Items\": [unique_items], \n",
    "    \"Average Price\": [average_price], \n",
    "    \"Number of Purchases\":[number_purchases], \n",
    "    \"Total Revenue\":[total_revenue]})\n",
    "\n",
    "# Format the output to only have 2 decimals and contain the $ sign\n",
    "total_purchasing_df['Average Price']=total_purchasing_df['Average Price'].map(\"${:.2f}\".format)\n",
    "total_purchasing_df['Total Revenue']=total_purchasing_df['Total Revenue'].map(\"${:,.2f}\".format)\n",
    "total_purchasing_df"
   ]
  },
  {
   "cell_type": "markdown",
   "metadata": {},
   "source": [
    "## Gender Demographics"
   ]
  },
  {
   "cell_type": "markdown",
   "metadata": {},
   "source": [
    "* Percentage and Count of Male Players\n",
    "\n",
    "\n",
    "* Percentage and Count of Female Players\n",
    "\n",
    "\n",
    "* Percentage and Count of Other / Non-Disclosed\n",
    "\n",
    "\n"
   ]
  },
  {
   "cell_type": "code",
   "execution_count": 4,
   "metadata": {},
   "outputs": [
    {
     "data": {
      "text/html": [
       "<style  type=\"text/css\" >\n",
       "</style><table id=\"T_28e7ea28_f79f_11ea_90b1_b05cda398ec3\" ><thead>    <tr>        <th class=\"blank level0\" ></th>        <th class=\"col_heading level0 col0\" >Total Count</th>        <th class=\"col_heading level0 col1\" >Percentage of Players</th>    </tr>    <tr>        <th class=\"index_name level0\" >Gender</th>        <th class=\"blank\" ></th>        <th class=\"blank\" ></th>    </tr></thead><tbody>\n",
       "                <tr>\n",
       "                        <th id=\"T_28e7ea28_f79f_11ea_90b1_b05cda398ec3level0_row0\" class=\"row_heading level0 row0\" >Male</th>\n",
       "                        <td id=\"T_28e7ea28_f79f_11ea_90b1_b05cda398ec3row0_col0\" class=\"data row0 col0\" >484</td>\n",
       "                        <td id=\"T_28e7ea28_f79f_11ea_90b1_b05cda398ec3row0_col1\" class=\"data row0 col1\" >84.03%</td>\n",
       "            </tr>\n",
       "            <tr>\n",
       "                        <th id=\"T_28e7ea28_f79f_11ea_90b1_b05cda398ec3level0_row1\" class=\"row_heading level0 row1\" >Female</th>\n",
       "                        <td id=\"T_28e7ea28_f79f_11ea_90b1_b05cda398ec3row1_col0\" class=\"data row1 col0\" >81</td>\n",
       "                        <td id=\"T_28e7ea28_f79f_11ea_90b1_b05cda398ec3row1_col1\" class=\"data row1 col1\" >14.06%</td>\n",
       "            </tr>\n",
       "            <tr>\n",
       "                        <th id=\"T_28e7ea28_f79f_11ea_90b1_b05cda398ec3level0_row2\" class=\"row_heading level0 row2\" >Other / Non-Disclosed</th>\n",
       "                        <td id=\"T_28e7ea28_f79f_11ea_90b1_b05cda398ec3row2_col0\" class=\"data row2 col0\" >11</td>\n",
       "                        <td id=\"T_28e7ea28_f79f_11ea_90b1_b05cda398ec3row2_col1\" class=\"data row2 col1\" >1.91%</td>\n",
       "            </tr>\n",
       "    </tbody></table>"
      ],
      "text/plain": [
       "<pandas.io.formats.style.Styler at 0x239399d2070>"
      ]
     },
     "execution_count": 4,
     "metadata": {},
     "output_type": "execute_result"
    }
   ],
   "source": [
    "# Group by Gender and find the unique # of genders so there are no duplicates\n",
    "gender_group = purchase_data.groupby(\"Gender\")\n",
    "unique_gender_count = gender_group.nunique()[\"SN\"]\n",
    "\n",
    "# Calculate the percent of players in each gender\n",
    "gender_percent=(unique_gender_count/total_players)*100\n",
    "\n",
    "# Create and format the Data Frame\n",
    "final_gender_df=pd.DataFrame({\"Total Count\": unique_gender_count, \"Percentage of Players\":gender_percent})\n",
    "final_gender_df.sort_values([\"Total Count\"], ascending = False).style.format({\"Percentage of Players\":\"{:.2f}%\"})"
   ]
  },
  {
   "cell_type": "markdown",
   "metadata": {},
   "source": [
    "\n",
    "## Purchasing Analysis (Gender)"
   ]
  },
  {
   "cell_type": "markdown",
   "metadata": {},
   "source": [
    "* Run basic calculations to obtain purchase count, avg. purchase price, avg. purchase total per person etc. by gender\n",
    "\n",
    "\n",
    "\n",
    "\n",
    "* Create a summary data frame to hold the results\n",
    "\n",
    "\n",
    "* Optional: give the displayed data cleaner formatting\n",
    "\n",
    "\n",
    "* Display the summary data frame"
   ]
  },
  {
   "cell_type": "code",
   "execution_count": 5,
   "metadata": {},
   "outputs": [
    {
     "data": {
      "text/html": [
       "<style  type=\"text/css\" >\n",
       "</style><table id=\"T_28ebf3a0_f79f_11ea_bfbf_b05cda398ec3\" ><thead>    <tr>        <th class=\"blank level0\" ></th>        <th class=\"col_heading level0 col0\" >Purchase Count</th>        <th class=\"col_heading level0 col1\" >Average Purchase Price</th>        <th class=\"col_heading level0 col2\" >Total Purchase Value</th>        <th class=\"col_heading level0 col3\" >Avg Total Purchase per Person</th>    </tr>    <tr>        <th class=\"index_name level0\" >Gender</th>        <th class=\"blank\" ></th>        <th class=\"blank\" ></th>        <th class=\"blank\" ></th>        <th class=\"blank\" ></th>    </tr></thead><tbody>\n",
       "                <tr>\n",
       "                        <th id=\"T_28ebf3a0_f79f_11ea_bfbf_b05cda398ec3level0_row0\" class=\"row_heading level0 row0\" >Female</th>\n",
       "                        <td id=\"T_28ebf3a0_f79f_11ea_bfbf_b05cda398ec3row0_col0\" class=\"data row0 col0\" >113</td>\n",
       "                        <td id=\"T_28ebf3a0_f79f_11ea_bfbf_b05cda398ec3row0_col1\" class=\"data row0 col1\" >$3.20</td>\n",
       "                        <td id=\"T_28ebf3a0_f79f_11ea_bfbf_b05cda398ec3row0_col2\" class=\"data row0 col2\" >$361.94</td>\n",
       "                        <td id=\"T_28ebf3a0_f79f_11ea_bfbf_b05cda398ec3row0_col3\" class=\"data row0 col3\" >$4.47</td>\n",
       "            </tr>\n",
       "            <tr>\n",
       "                        <th id=\"T_28ebf3a0_f79f_11ea_bfbf_b05cda398ec3level0_row1\" class=\"row_heading level0 row1\" >Male</th>\n",
       "                        <td id=\"T_28ebf3a0_f79f_11ea_bfbf_b05cda398ec3row1_col0\" class=\"data row1 col0\" >652</td>\n",
       "                        <td id=\"T_28ebf3a0_f79f_11ea_bfbf_b05cda398ec3row1_col1\" class=\"data row1 col1\" >$3.02</td>\n",
       "                        <td id=\"T_28ebf3a0_f79f_11ea_bfbf_b05cda398ec3row1_col2\" class=\"data row1 col2\" >$1,967.64</td>\n",
       "                        <td id=\"T_28ebf3a0_f79f_11ea_bfbf_b05cda398ec3row1_col3\" class=\"data row1 col3\" >$4.07</td>\n",
       "            </tr>\n",
       "            <tr>\n",
       "                        <th id=\"T_28ebf3a0_f79f_11ea_bfbf_b05cda398ec3level0_row2\" class=\"row_heading level0 row2\" >Other / Non-Disclosed</th>\n",
       "                        <td id=\"T_28ebf3a0_f79f_11ea_bfbf_b05cda398ec3row2_col0\" class=\"data row2 col0\" >15</td>\n",
       "                        <td id=\"T_28ebf3a0_f79f_11ea_bfbf_b05cda398ec3row2_col1\" class=\"data row2 col1\" >$3.35</td>\n",
       "                        <td id=\"T_28ebf3a0_f79f_11ea_bfbf_b05cda398ec3row2_col2\" class=\"data row2 col2\" >$50.19</td>\n",
       "                        <td id=\"T_28ebf3a0_f79f_11ea_bfbf_b05cda398ec3row2_col3\" class=\"data row2 col3\" >$4.56</td>\n",
       "            </tr>\n",
       "    </tbody></table>"
      ],
      "text/plain": [
       "<pandas.io.formats.style.Styler at 0x2393aa84940>"
      ]
     },
     "execution_count": 5,
     "metadata": {},
     "output_type": "execute_result"
    }
   ],
   "source": [
    "# Use the GroupBy previously used to get the calculations needed\n",
    "purchase_count=gender_group[\"SN\"].count()\n",
    "average_purchase_price=gender_group['Price'].mean()\n",
    "total_purchase_value=gender_group['Price'].sum()\n",
    "average_total_purchase_per_person=(total_purchase_value/unique_gender_count)\n",
    "\n",
    "#Create and format the Data Frame accordingly \n",
    "purchasing_analysis_gender_df=pd.DataFrame({\n",
    "    \"Purchase Count\": purchase_count, \n",
    "    \"Average Purchase Price\":average_purchase_price,\n",
    "    \"Total Purchase Value\": total_purchase_value, \n",
    "    \"Avg Total Purchase per Person\":average_total_purchase_per_person})\n",
    "\n",
    "purchasing_analysis_gender_df.style.format({\"Average Purchase Price\":\"${:.2f}\",\n",
    "                                            \"Total Purchase Value\":\"${:,.2f}\", \n",
    "                                            \"Avg Total Purchase per Person\":\"${:.2f}\"})"
   ]
  },
  {
   "cell_type": "markdown",
   "metadata": {},
   "source": [
    "## Age Demographics"
   ]
  },
  {
   "cell_type": "markdown",
   "metadata": {},
   "source": [
    "* Establish bins for ages\n",
    "\n",
    "\n",
    "* Categorize the existing players using the age bins. Hint: use pd.cut()\n",
    "\n",
    "\n",
    "* Calculate the numbers and percentages by age group\n",
    "\n",
    "\n",
    "* Create a summary data frame to hold the results\n",
    "\n",
    "\n",
    "* Optional: round the percentage column to two decimal points\n",
    "\n",
    "\n",
    "* Display Age Demographics Table\n"
   ]
  },
  {
   "cell_type": "code",
   "execution_count": 6,
   "metadata": {},
   "outputs": [
    {
     "data": {
      "text/html": [
       "<style  type=\"text/css\" >\n",
       "</style><table id=\"T_28fa890b_f79f_11ea_bce2_b05cda398ec3\" ><thead>    <tr>        <th class=\"blank level0\" ></th>        <th class=\"col_heading level0 col0\" >Total Count</th>        <th class=\"col_heading level0 col1\" >Percentage of Players</th>    </tr></thead><tbody>\n",
       "                <tr>\n",
       "                        <th id=\"T_28fa890b_f79f_11ea_bce2_b05cda398ec3level0_row0\" class=\"row_heading level0 row0\" ><10</th>\n",
       "                        <td id=\"T_28fa890b_f79f_11ea_bce2_b05cda398ec3row0_col0\" class=\"data row0 col0\" >17</td>\n",
       "                        <td id=\"T_28fa890b_f79f_11ea_bce2_b05cda398ec3row0_col1\" class=\"data row0 col1\" >2.95%</td>\n",
       "            </tr>\n",
       "            <tr>\n",
       "                        <th id=\"T_28fa890b_f79f_11ea_bce2_b05cda398ec3level0_row1\" class=\"row_heading level0 row1\" >10-14</th>\n",
       "                        <td id=\"T_28fa890b_f79f_11ea_bce2_b05cda398ec3row1_col0\" class=\"data row1 col0\" >22</td>\n",
       "                        <td id=\"T_28fa890b_f79f_11ea_bce2_b05cda398ec3row1_col1\" class=\"data row1 col1\" >3.82%</td>\n",
       "            </tr>\n",
       "            <tr>\n",
       "                        <th id=\"T_28fa890b_f79f_11ea_bce2_b05cda398ec3level0_row2\" class=\"row_heading level0 row2\" >15-19</th>\n",
       "                        <td id=\"T_28fa890b_f79f_11ea_bce2_b05cda398ec3row2_col0\" class=\"data row2 col0\" >107</td>\n",
       "                        <td id=\"T_28fa890b_f79f_11ea_bce2_b05cda398ec3row2_col1\" class=\"data row2 col1\" >18.58%</td>\n",
       "            </tr>\n",
       "            <tr>\n",
       "                        <th id=\"T_28fa890b_f79f_11ea_bce2_b05cda398ec3level0_row3\" class=\"row_heading level0 row3\" >20-24</th>\n",
       "                        <td id=\"T_28fa890b_f79f_11ea_bce2_b05cda398ec3row3_col0\" class=\"data row3 col0\" >258</td>\n",
       "                        <td id=\"T_28fa890b_f79f_11ea_bce2_b05cda398ec3row3_col1\" class=\"data row3 col1\" >44.79%</td>\n",
       "            </tr>\n",
       "            <tr>\n",
       "                        <th id=\"T_28fa890b_f79f_11ea_bce2_b05cda398ec3level0_row4\" class=\"row_heading level0 row4\" >25-29</th>\n",
       "                        <td id=\"T_28fa890b_f79f_11ea_bce2_b05cda398ec3row4_col0\" class=\"data row4 col0\" >77</td>\n",
       "                        <td id=\"T_28fa890b_f79f_11ea_bce2_b05cda398ec3row4_col1\" class=\"data row4 col1\" >13.37%</td>\n",
       "            </tr>\n",
       "            <tr>\n",
       "                        <th id=\"T_28fa890b_f79f_11ea_bce2_b05cda398ec3level0_row5\" class=\"row_heading level0 row5\" >30-34</th>\n",
       "                        <td id=\"T_28fa890b_f79f_11ea_bce2_b05cda398ec3row5_col0\" class=\"data row5 col0\" >52</td>\n",
       "                        <td id=\"T_28fa890b_f79f_11ea_bce2_b05cda398ec3row5_col1\" class=\"data row5 col1\" >9.03%</td>\n",
       "            </tr>\n",
       "            <tr>\n",
       "                        <th id=\"T_28fa890b_f79f_11ea_bce2_b05cda398ec3level0_row6\" class=\"row_heading level0 row6\" >35-39</th>\n",
       "                        <td id=\"T_28fa890b_f79f_11ea_bce2_b05cda398ec3row6_col0\" class=\"data row6 col0\" >31</td>\n",
       "                        <td id=\"T_28fa890b_f79f_11ea_bce2_b05cda398ec3row6_col1\" class=\"data row6 col1\" >5.38%</td>\n",
       "            </tr>\n",
       "            <tr>\n",
       "                        <th id=\"T_28fa890b_f79f_11ea_bce2_b05cda398ec3level0_row7\" class=\"row_heading level0 row7\" >40+</th>\n",
       "                        <td id=\"T_28fa890b_f79f_11ea_bce2_b05cda398ec3row7_col0\" class=\"data row7 col0\" >12</td>\n",
       "                        <td id=\"T_28fa890b_f79f_11ea_bce2_b05cda398ec3row7_col1\" class=\"data row7 col1\" >2.08%</td>\n",
       "            </tr>\n",
       "    </tbody></table>"
      ],
      "text/plain": [
       "<pandas.io.formats.style.Styler at 0x23937927ca0>"
      ]
     },
     "execution_count": 6,
     "metadata": {},
     "output_type": "execute_result"
    }
   ],
   "source": [
    "# Bin and cut the data \n",
    "age_groups=[\"<10\",\"10-14\",\"15-19\",\"20-24\",\"25-29\",\"30-34\",\"35-39\",\"40+\"]\n",
    "bins=[0,9.90,14.9,19.9,24.9,29.9,34.9,39.9,100]\n",
    "\n",
    "purchase_data[\"Age Group\"] = pd.cut(purchase_data[\"Age\"], bins, labels=age_groups)\n",
    "\n",
    "#Group the data by age group to find the required information\n",
    "grouped_age=purchase_data.groupby('Age Group')\n",
    "\n",
    "# Make calculations\n",
    "unique_age_count = grouped_age.nunique()[\"SN\"]\n",
    "percent_players=(unique_age_count/total_players)*100\n",
    "\n",
    "#Create and format the Data Frame\n",
    "age_demographic_df=pd.DataFrame({\n",
    "    \"Total Count\": unique_age_count, \n",
    "    \"Percentage of Players\":percent_players})\n",
    "age_demographic_df.index.name = None\n",
    "age_demographic_df.style.format({\"Percentage of Players\":\"{:.2f}%\"})"
   ]
  },
  {
   "cell_type": "markdown",
   "metadata": {},
   "source": [
    "## Purchasing Analysis (Age)"
   ]
  },
  {
   "cell_type": "markdown",
   "metadata": {},
   "source": [
    "* Bin the purchase_data data frame by age\n",
    "\n",
    "\n",
    "* Run basic calculations to obtain purchase count, avg. purchase price, avg. purchase total per person etc. in the table below\n",
    "\n",
    "\n",
    "* Create a summary data frame to hold the results\n",
    "\n",
    "\n",
    "* Optional: give the displayed data cleaner formatting\n",
    "\n",
    "\n",
    "* Display the summary data frame"
   ]
  },
  {
   "cell_type": "code",
   "execution_count": 7,
   "metadata": {},
   "outputs": [
    {
     "data": {
      "text/html": [
       "<style  type=\"text/css\" >\n",
       "</style><table id=\"T_2909d4a8_f79f_11ea_ad5b_b05cda398ec3\" ><thead>    <tr>        <th class=\"blank level0\" ></th>        <th class=\"col_heading level0 col0\" >Purchase Count</th>        <th class=\"col_heading level0 col1\" >Average Purchase Price</th>        <th class=\"col_heading level0 col2\" >Total Purchase Value</th>        <th class=\"col_heading level0 col3\" >Avg Total Purchase per Person</th>    </tr>    <tr>        <th class=\"index_name level0\" >Age Ranges</th>        <th class=\"blank\" ></th>        <th class=\"blank\" ></th>        <th class=\"blank\" ></th>        <th class=\"blank\" ></th>    </tr></thead><tbody>\n",
       "                <tr>\n",
       "                        <th id=\"T_2909d4a8_f79f_11ea_ad5b_b05cda398ec3level0_row0\" class=\"row_heading level0 row0\" ><10</th>\n",
       "                        <td id=\"T_2909d4a8_f79f_11ea_ad5b_b05cda398ec3row0_col0\" class=\"data row0 col0\" >23</td>\n",
       "                        <td id=\"T_2909d4a8_f79f_11ea_ad5b_b05cda398ec3row0_col1\" class=\"data row0 col1\" >$3.35</td>\n",
       "                        <td id=\"T_2909d4a8_f79f_11ea_ad5b_b05cda398ec3row0_col2\" class=\"data row0 col2\" >$77.13</td>\n",
       "                        <td id=\"T_2909d4a8_f79f_11ea_ad5b_b05cda398ec3row0_col3\" class=\"data row0 col3\" >$4.54</td>\n",
       "            </tr>\n",
       "            <tr>\n",
       "                        <th id=\"T_2909d4a8_f79f_11ea_ad5b_b05cda398ec3level0_row1\" class=\"row_heading level0 row1\" >10-14</th>\n",
       "                        <td id=\"T_2909d4a8_f79f_11ea_ad5b_b05cda398ec3row1_col0\" class=\"data row1 col0\" >28</td>\n",
       "                        <td id=\"T_2909d4a8_f79f_11ea_ad5b_b05cda398ec3row1_col1\" class=\"data row1 col1\" >$2.96</td>\n",
       "                        <td id=\"T_2909d4a8_f79f_11ea_ad5b_b05cda398ec3row1_col2\" class=\"data row1 col2\" >$82.78</td>\n",
       "                        <td id=\"T_2909d4a8_f79f_11ea_ad5b_b05cda398ec3row1_col3\" class=\"data row1 col3\" >$3.76</td>\n",
       "            </tr>\n",
       "            <tr>\n",
       "                        <th id=\"T_2909d4a8_f79f_11ea_ad5b_b05cda398ec3level0_row2\" class=\"row_heading level0 row2\" >15-19</th>\n",
       "                        <td id=\"T_2909d4a8_f79f_11ea_ad5b_b05cda398ec3row2_col0\" class=\"data row2 col0\" >136</td>\n",
       "                        <td id=\"T_2909d4a8_f79f_11ea_ad5b_b05cda398ec3row2_col1\" class=\"data row2 col1\" >$3.04</td>\n",
       "                        <td id=\"T_2909d4a8_f79f_11ea_ad5b_b05cda398ec3row2_col2\" class=\"data row2 col2\" >$412.89</td>\n",
       "                        <td id=\"T_2909d4a8_f79f_11ea_ad5b_b05cda398ec3row2_col3\" class=\"data row2 col3\" >$3.86</td>\n",
       "            </tr>\n",
       "            <tr>\n",
       "                        <th id=\"T_2909d4a8_f79f_11ea_ad5b_b05cda398ec3level0_row3\" class=\"row_heading level0 row3\" >20-24</th>\n",
       "                        <td id=\"T_2909d4a8_f79f_11ea_ad5b_b05cda398ec3row3_col0\" class=\"data row3 col0\" >365</td>\n",
       "                        <td id=\"T_2909d4a8_f79f_11ea_ad5b_b05cda398ec3row3_col1\" class=\"data row3 col1\" >$3.05</td>\n",
       "                        <td id=\"T_2909d4a8_f79f_11ea_ad5b_b05cda398ec3row3_col2\" class=\"data row3 col2\" >$1,114.06</td>\n",
       "                        <td id=\"T_2909d4a8_f79f_11ea_ad5b_b05cda398ec3row3_col3\" class=\"data row3 col3\" >$4.32</td>\n",
       "            </tr>\n",
       "            <tr>\n",
       "                        <th id=\"T_2909d4a8_f79f_11ea_ad5b_b05cda398ec3level0_row4\" class=\"row_heading level0 row4\" >25-29</th>\n",
       "                        <td id=\"T_2909d4a8_f79f_11ea_ad5b_b05cda398ec3row4_col0\" class=\"data row4 col0\" >101</td>\n",
       "                        <td id=\"T_2909d4a8_f79f_11ea_ad5b_b05cda398ec3row4_col1\" class=\"data row4 col1\" >$2.90</td>\n",
       "                        <td id=\"T_2909d4a8_f79f_11ea_ad5b_b05cda398ec3row4_col2\" class=\"data row4 col2\" >$293.00</td>\n",
       "                        <td id=\"T_2909d4a8_f79f_11ea_ad5b_b05cda398ec3row4_col3\" class=\"data row4 col3\" >$3.81</td>\n",
       "            </tr>\n",
       "            <tr>\n",
       "                        <th id=\"T_2909d4a8_f79f_11ea_ad5b_b05cda398ec3level0_row5\" class=\"row_heading level0 row5\" >30-34</th>\n",
       "                        <td id=\"T_2909d4a8_f79f_11ea_ad5b_b05cda398ec3row5_col0\" class=\"data row5 col0\" >73</td>\n",
       "                        <td id=\"T_2909d4a8_f79f_11ea_ad5b_b05cda398ec3row5_col1\" class=\"data row5 col1\" >$2.93</td>\n",
       "                        <td id=\"T_2909d4a8_f79f_11ea_ad5b_b05cda398ec3row5_col2\" class=\"data row5 col2\" >$214.00</td>\n",
       "                        <td id=\"T_2909d4a8_f79f_11ea_ad5b_b05cda398ec3row5_col3\" class=\"data row5 col3\" >$4.12</td>\n",
       "            </tr>\n",
       "            <tr>\n",
       "                        <th id=\"T_2909d4a8_f79f_11ea_ad5b_b05cda398ec3level0_row6\" class=\"row_heading level0 row6\" >35-39</th>\n",
       "                        <td id=\"T_2909d4a8_f79f_11ea_ad5b_b05cda398ec3row6_col0\" class=\"data row6 col0\" >41</td>\n",
       "                        <td id=\"T_2909d4a8_f79f_11ea_ad5b_b05cda398ec3row6_col1\" class=\"data row6 col1\" >$3.60</td>\n",
       "                        <td id=\"T_2909d4a8_f79f_11ea_ad5b_b05cda398ec3row6_col2\" class=\"data row6 col2\" >$147.67</td>\n",
       "                        <td id=\"T_2909d4a8_f79f_11ea_ad5b_b05cda398ec3row6_col3\" class=\"data row6 col3\" >$4.76</td>\n",
       "            </tr>\n",
       "            <tr>\n",
       "                        <th id=\"T_2909d4a8_f79f_11ea_ad5b_b05cda398ec3level0_row7\" class=\"row_heading level0 row7\" >40+</th>\n",
       "                        <td id=\"T_2909d4a8_f79f_11ea_ad5b_b05cda398ec3row7_col0\" class=\"data row7 col0\" >13</td>\n",
       "                        <td id=\"T_2909d4a8_f79f_11ea_ad5b_b05cda398ec3row7_col1\" class=\"data row7 col1\" >$2.94</td>\n",
       "                        <td id=\"T_2909d4a8_f79f_11ea_ad5b_b05cda398ec3row7_col2\" class=\"data row7 col2\" >$38.24</td>\n",
       "                        <td id=\"T_2909d4a8_f79f_11ea_ad5b_b05cda398ec3row7_col3\" class=\"data row7 col3\" >$3.19</td>\n",
       "            </tr>\n",
       "    </tbody></table>"
      ],
      "text/plain": [
       "<pandas.io.formats.style.Styler at 0x2393aa84550>"
      ]
     },
     "execution_count": 7,
     "metadata": {},
     "output_type": "execute_result"
    }
   ],
   "source": [
    "# You can use the Group By used above to find the calculations\n",
    "purchase_count=grouped_age['Item ID'].count()\n",
    "average_purchase_price=grouped_age['Price'].mean()\n",
    "total_purchase_value=grouped_age['Price'].sum()\n",
    "average_total_purchase_per_person=total_purchase_value/unique_age_count\n",
    "\n",
    "# Create and format the Data Frame\n",
    "purchasing_analysis_age_df=pd.DataFrame({\"Purchase Count\": purchase_count, \n",
    "    \"Average Purchase Price\":average_purchase_price,\n",
    "    \"Total Purchase Value\": total_purchase_value, \n",
    "    \"Avg Total Purchase per Person\":average_total_purchase_per_person,})\n",
    "\n",
    "purchasing_analysis_age_df.index.name = \"Age Ranges\"\n",
    "\n",
    "purchasing_analysis_age_df.style.format({\"Average Purchase Price\":\"${:.2f}\",\n",
    "                                            \"Total Purchase Value\":\"${:,.2f}\", \n",
    "                                            \"Avg Total Purchase per Person\":\"${:.2f}\"})"
   ]
  },
  {
   "cell_type": "markdown",
   "metadata": {},
   "source": [
    "## Top Spenders"
   ]
  },
  {
   "cell_type": "markdown",
   "metadata": {},
   "source": [
    "* Run basic calculations to obtain the results in the table below\n",
    "\n",
    "\n",
    "* Create a summary data frame to hold the results\n",
    "\n",
    "\n",
    "* Sort the total purchase value column in descending order\n",
    "\n",
    "\n",
    "* Optional: give the displayed data cleaner formatting\n",
    "\n",
    "\n",
    "* Display a preview of the summary data frame\n",
    "\n"
   ]
  },
  {
   "cell_type": "code",
   "execution_count": 8,
   "metadata": {},
   "outputs": [
    {
     "data": {
      "text/html": [
       "<style  type=\"text/css\" >\n",
       "</style><table id=\"T_29203c27_f79f_11ea_a83a_b05cda398ec3\" ><thead>    <tr>        <th class=\"blank level0\" ></th>        <th class=\"col_heading level0 col0\" >Purchase Count</th>        <th class=\"col_heading level0 col1\" >Average Purchase Price</th>        <th class=\"col_heading level0 col2\" >Total Purchase Value</th>    </tr>    <tr>        <th class=\"index_name level0\" >SN</th>        <th class=\"blank\" ></th>        <th class=\"blank\" ></th>        <th class=\"blank\" ></th>    </tr></thead><tbody>\n",
       "                <tr>\n",
       "                        <th id=\"T_29203c27_f79f_11ea_a83a_b05cda398ec3level0_row0\" class=\"row_heading level0 row0\" >Lisosia93</th>\n",
       "                        <td id=\"T_29203c27_f79f_11ea_a83a_b05cda398ec3row0_col0\" class=\"data row0 col0\" >5</td>\n",
       "                        <td id=\"T_29203c27_f79f_11ea_a83a_b05cda398ec3row0_col1\" class=\"data row0 col1\" >$3.79</td>\n",
       "                        <td id=\"T_29203c27_f79f_11ea_a83a_b05cda398ec3row0_col2\" class=\"data row0 col2\" >$18.96</td>\n",
       "            </tr>\n",
       "            <tr>\n",
       "                        <th id=\"T_29203c27_f79f_11ea_a83a_b05cda398ec3level0_row1\" class=\"row_heading level0 row1\" >Idastidru52</th>\n",
       "                        <td id=\"T_29203c27_f79f_11ea_a83a_b05cda398ec3row1_col0\" class=\"data row1 col0\" >4</td>\n",
       "                        <td id=\"T_29203c27_f79f_11ea_a83a_b05cda398ec3row1_col1\" class=\"data row1 col1\" >$3.86</td>\n",
       "                        <td id=\"T_29203c27_f79f_11ea_a83a_b05cda398ec3row1_col2\" class=\"data row1 col2\" >$15.45</td>\n",
       "            </tr>\n",
       "            <tr>\n",
       "                        <th id=\"T_29203c27_f79f_11ea_a83a_b05cda398ec3level0_row2\" class=\"row_heading level0 row2\" >Chamjask73</th>\n",
       "                        <td id=\"T_29203c27_f79f_11ea_a83a_b05cda398ec3row2_col0\" class=\"data row2 col0\" >3</td>\n",
       "                        <td id=\"T_29203c27_f79f_11ea_a83a_b05cda398ec3row2_col1\" class=\"data row2 col1\" >$4.61</td>\n",
       "                        <td id=\"T_29203c27_f79f_11ea_a83a_b05cda398ec3row2_col2\" class=\"data row2 col2\" >$13.83</td>\n",
       "            </tr>\n",
       "            <tr>\n",
       "                        <th id=\"T_29203c27_f79f_11ea_a83a_b05cda398ec3level0_row3\" class=\"row_heading level0 row3\" >Iral74</th>\n",
       "                        <td id=\"T_29203c27_f79f_11ea_a83a_b05cda398ec3row3_col0\" class=\"data row3 col0\" >4</td>\n",
       "                        <td id=\"T_29203c27_f79f_11ea_a83a_b05cda398ec3row3_col1\" class=\"data row3 col1\" >$3.40</td>\n",
       "                        <td id=\"T_29203c27_f79f_11ea_a83a_b05cda398ec3row3_col2\" class=\"data row3 col2\" >$13.62</td>\n",
       "            </tr>\n",
       "            <tr>\n",
       "                        <th id=\"T_29203c27_f79f_11ea_a83a_b05cda398ec3level0_row4\" class=\"row_heading level0 row4\" >Iskadarya95</th>\n",
       "                        <td id=\"T_29203c27_f79f_11ea_a83a_b05cda398ec3row4_col0\" class=\"data row4 col0\" >3</td>\n",
       "                        <td id=\"T_29203c27_f79f_11ea_a83a_b05cda398ec3row4_col1\" class=\"data row4 col1\" >$4.37</td>\n",
       "                        <td id=\"T_29203c27_f79f_11ea_a83a_b05cda398ec3row4_col2\" class=\"data row4 col2\" >$13.10</td>\n",
       "            </tr>\n",
       "    </tbody></table>"
      ],
      "text/plain": [
       "<pandas.io.formats.style.Styler at 0x23937918a60>"
      ]
     },
     "execution_count": 8,
     "metadata": {},
     "output_type": "execute_result"
    }
   ],
   "source": [
    "# Create Group By to find the data by user\n",
    "grouped_sn=purchase_data.groupby('SN')\n",
    "\n",
    "# Calculate\n",
    "purchase_count=grouped_sn['Purchase ID'].count()\n",
    "average_purchase_price=grouped_sn['Price'].mean()\n",
    "total_purchase_value=grouped_sn['Price'].sum()\n",
    "\n",
    "#Create and format Data Frame\n",
    "top_spenders_df=pd.DataFrame({\n",
    "    \"Purchase Count\": purchase_count, \n",
    "    \"Average Purchase Price\":average_purchase_price,\n",
    "    \"Total Purchase Value\": total_purchase_value})\n",
    "\n",
    "top_5_spenders=top_spenders_df.sort_values([\"Total Purchase Value\"], ascending = False).head()\n",
    "\n",
    "top_5_spenders.style.format({\"Average Purchase Price\":\"${:.2f}\",\n",
    "                                           \"Total Purchase Value\":\"${:.2f}\"})"
   ]
  },
  {
   "cell_type": "markdown",
   "metadata": {},
   "source": [
    "## Most Popular Items"
   ]
  },
  {
   "cell_type": "markdown",
   "metadata": {},
   "source": [
    "* Retrieve the Item ID, Item Name, and Item Price columns\n",
    "\n",
    "\n",
    "* Group by Item ID and Item Name. Perform calculations to obtain purchase count, item price, and total purchase value\n",
    "\n",
    "\n",
    "* Create a summary data frame to hold the results\n",
    "\n",
    "\n",
    "* Sort the purchase count column in descending order\n",
    "\n",
    "\n",
    "* Optional: give the displayed data cleaner formatting\n",
    "\n",
    "\n",
    "* Display a preview of the summary data frame\n",
    "\n"
   ]
  },
  {
   "cell_type": "code",
   "execution_count": 9,
   "metadata": {},
   "outputs": [
    {
     "data": {
      "text/html": [
       "<style  type=\"text/css\" >\n",
       "</style><table id=\"T_29346df6_f79f_11ea_b0bf_b05cda398ec3\" ><thead>    <tr>        <th class=\"blank\" ></th>        <th class=\"blank level0\" ></th>        <th class=\"col_heading level0 col0\" >Purchase Count</th>        <th class=\"col_heading level0 col1\" >Item Price</th>        <th class=\"col_heading level0 col2\" >Total Purchase Value</th>    </tr>    <tr>        <th class=\"index_name level0\" >Item ID</th>        <th class=\"index_name level1\" >Item Name</th>        <th class=\"blank\" ></th>        <th class=\"blank\" ></th>        <th class=\"blank\" ></th>    </tr></thead><tbody>\n",
       "                <tr>\n",
       "                        <th id=\"T_29346df6_f79f_11ea_b0bf_b05cda398ec3level0_row0\" class=\"row_heading level0 row0\" >92</th>\n",
       "                        <th id=\"T_29346df6_f79f_11ea_b0bf_b05cda398ec3level1_row0\" class=\"row_heading level1 row0\" >Final Critic</th>\n",
       "                        <td id=\"T_29346df6_f79f_11ea_b0bf_b05cda398ec3row0_col0\" class=\"data row0 col0\" >13</td>\n",
       "                        <td id=\"T_29346df6_f79f_11ea_b0bf_b05cda398ec3row0_col1\" class=\"data row0 col1\" >$4.61</td>\n",
       "                        <td id=\"T_29346df6_f79f_11ea_b0bf_b05cda398ec3row0_col2\" class=\"data row0 col2\" >$59.99</td>\n",
       "            </tr>\n",
       "            <tr>\n",
       "                        <th id=\"T_29346df6_f79f_11ea_b0bf_b05cda398ec3level0_row1\" class=\"row_heading level0 row1\" >178</th>\n",
       "                        <th id=\"T_29346df6_f79f_11ea_b0bf_b05cda398ec3level1_row1\" class=\"row_heading level1 row1\" >Oathbreaker, Last Hope of the Breaking Storm</th>\n",
       "                        <td id=\"T_29346df6_f79f_11ea_b0bf_b05cda398ec3row1_col0\" class=\"data row1 col0\" >12</td>\n",
       "                        <td id=\"T_29346df6_f79f_11ea_b0bf_b05cda398ec3row1_col1\" class=\"data row1 col1\" >$4.23</td>\n",
       "                        <td id=\"T_29346df6_f79f_11ea_b0bf_b05cda398ec3row1_col2\" class=\"data row1 col2\" >$50.76</td>\n",
       "            </tr>\n",
       "            <tr>\n",
       "                        <th id=\"T_29346df6_f79f_11ea_b0bf_b05cda398ec3level0_row2\" class=\"row_heading level0 row2\" >145</th>\n",
       "                        <th id=\"T_29346df6_f79f_11ea_b0bf_b05cda398ec3level1_row2\" class=\"row_heading level1 row2\" >Fiery Glass Crusader</th>\n",
       "                        <td id=\"T_29346df6_f79f_11ea_b0bf_b05cda398ec3row2_col0\" class=\"data row2 col0\" >9</td>\n",
       "                        <td id=\"T_29346df6_f79f_11ea_b0bf_b05cda398ec3row2_col1\" class=\"data row2 col1\" >$4.58</td>\n",
       "                        <td id=\"T_29346df6_f79f_11ea_b0bf_b05cda398ec3row2_col2\" class=\"data row2 col2\" >$41.22</td>\n",
       "            </tr>\n",
       "            <tr>\n",
       "                        <th id=\"T_29346df6_f79f_11ea_b0bf_b05cda398ec3level0_row3\" class=\"row_heading level0 row3\" >132</th>\n",
       "                        <th id=\"T_29346df6_f79f_11ea_b0bf_b05cda398ec3level1_row3\" class=\"row_heading level1 row3\" >Persuasion</th>\n",
       "                        <td id=\"T_29346df6_f79f_11ea_b0bf_b05cda398ec3row3_col0\" class=\"data row3 col0\" >9</td>\n",
       "                        <td id=\"T_29346df6_f79f_11ea_b0bf_b05cda398ec3row3_col1\" class=\"data row3 col1\" >$3.22</td>\n",
       "                        <td id=\"T_29346df6_f79f_11ea_b0bf_b05cda398ec3row3_col2\" class=\"data row3 col2\" >$28.99</td>\n",
       "            </tr>\n",
       "            <tr>\n",
       "                        <th id=\"T_29346df6_f79f_11ea_b0bf_b05cda398ec3level0_row4\" class=\"row_heading level0 row4\" >108</th>\n",
       "                        <th id=\"T_29346df6_f79f_11ea_b0bf_b05cda398ec3level1_row4\" class=\"row_heading level1 row4\" >Extraction, Quickblade Of Trembling Hands</th>\n",
       "                        <td id=\"T_29346df6_f79f_11ea_b0bf_b05cda398ec3row4_col0\" class=\"data row4 col0\" >9</td>\n",
       "                        <td id=\"T_29346df6_f79f_11ea_b0bf_b05cda398ec3row4_col1\" class=\"data row4 col1\" >$3.53</td>\n",
       "                        <td id=\"T_29346df6_f79f_11ea_b0bf_b05cda398ec3row4_col2\" class=\"data row4 col2\" >$31.77</td>\n",
       "            </tr>\n",
       "    </tbody></table>"
      ],
      "text/plain": [
       "<pandas.io.formats.style.Styler at 0x2393aa9aa60>"
      ]
     },
     "execution_count": 9,
     "metadata": {},
     "output_type": "execute_result"
    }
   ],
   "source": [
    "# Retrieve the columns specified\n",
    "extract_columns=purchase_data[['Item ID', 'Item Name', 'Price']]\n",
    "\n",
    "# Group by the columns specified\n",
    "grouped_id_name = extract_columns.groupby([\"Item ID\", \"Item Name\"])\n",
    "\n",
    "# Calculate respective to the grouped columns\n",
    "purchase_count=grouped_id_name[\"Item Name\"].count()\n",
    "total_purchase_value=grouped_id_name[\"Price\"].sum()\n",
    "item_price=total_purchase_value/purchase_count\n",
    "\n",
    "# Create and format Data Frame\n",
    "most_popular_df=pd.DataFrame({\n",
    "    \"Purchase Count\": purchase_count, \n",
    "    \"Item Price\":item_price,\n",
    "    \"Total Purchase Value\": total_purchase_value})\n",
    "\n",
    "top_5_popular=most_popular_df.sort_values([\"Purchase Count\"], ascending = False).head()\n",
    "\n",
    "top_5_popular.style.format({\"Item Price\":\"${:.2f}\",\n",
    "                                           \"Total Purchase Value\":\"${:.2f}\"})"
   ]
  },
  {
   "cell_type": "markdown",
   "metadata": {},
   "source": [
    "## Most Profitable Items"
   ]
  },
  {
   "cell_type": "markdown",
   "metadata": {},
   "source": [
    "* Sort the above table by total purchase value in descending order\n",
    "\n",
    "\n",
    "* Optional: give the displayed data cleaner formatting\n",
    "\n",
    "\n",
    "* Display a preview of the data frame\n",
    "\n"
   ]
  },
  {
   "cell_type": "code",
   "execution_count": 10,
   "metadata": {},
   "outputs": [
    {
     "data": {
      "text/html": [
       "<style  type=\"text/css\" >\n",
       "</style><table id=\"T_29444914_f79f_11ea_82cb_b05cda398ec3\" ><thead>    <tr>        <th class=\"blank\" ></th>        <th class=\"blank level0\" ></th>        <th class=\"col_heading level0 col0\" >Purchase Count</th>        <th class=\"col_heading level0 col1\" >Item Price</th>        <th class=\"col_heading level0 col2\" >Total Purchase Value</th>    </tr>    <tr>        <th class=\"index_name level0\" >Item ID</th>        <th class=\"index_name level1\" >Item Name</th>        <th class=\"blank\" ></th>        <th class=\"blank\" ></th>        <th class=\"blank\" ></th>    </tr></thead><tbody>\n",
       "                <tr>\n",
       "                        <th id=\"T_29444914_f79f_11ea_82cb_b05cda398ec3level0_row0\" class=\"row_heading level0 row0\" >92</th>\n",
       "                        <th id=\"T_29444914_f79f_11ea_82cb_b05cda398ec3level1_row0\" class=\"row_heading level1 row0\" >Final Critic</th>\n",
       "                        <td id=\"T_29444914_f79f_11ea_82cb_b05cda398ec3row0_col0\" class=\"data row0 col0\" >13</td>\n",
       "                        <td id=\"T_29444914_f79f_11ea_82cb_b05cda398ec3row0_col1\" class=\"data row0 col1\" >$4.61</td>\n",
       "                        <td id=\"T_29444914_f79f_11ea_82cb_b05cda398ec3row0_col2\" class=\"data row0 col2\" >$59.99</td>\n",
       "            </tr>\n",
       "            <tr>\n",
       "                        <th id=\"T_29444914_f79f_11ea_82cb_b05cda398ec3level0_row1\" class=\"row_heading level0 row1\" >178</th>\n",
       "                        <th id=\"T_29444914_f79f_11ea_82cb_b05cda398ec3level1_row1\" class=\"row_heading level1 row1\" >Oathbreaker, Last Hope of the Breaking Storm</th>\n",
       "                        <td id=\"T_29444914_f79f_11ea_82cb_b05cda398ec3row1_col0\" class=\"data row1 col0\" >12</td>\n",
       "                        <td id=\"T_29444914_f79f_11ea_82cb_b05cda398ec3row1_col1\" class=\"data row1 col1\" >$4.23</td>\n",
       "                        <td id=\"T_29444914_f79f_11ea_82cb_b05cda398ec3row1_col2\" class=\"data row1 col2\" >$50.76</td>\n",
       "            </tr>\n",
       "            <tr>\n",
       "                        <th id=\"T_29444914_f79f_11ea_82cb_b05cda398ec3level0_row2\" class=\"row_heading level0 row2\" >82</th>\n",
       "                        <th id=\"T_29444914_f79f_11ea_82cb_b05cda398ec3level1_row2\" class=\"row_heading level1 row2\" >Nirvana</th>\n",
       "                        <td id=\"T_29444914_f79f_11ea_82cb_b05cda398ec3row2_col0\" class=\"data row2 col0\" >9</td>\n",
       "                        <td id=\"T_29444914_f79f_11ea_82cb_b05cda398ec3row2_col1\" class=\"data row2 col1\" >$4.90</td>\n",
       "                        <td id=\"T_29444914_f79f_11ea_82cb_b05cda398ec3row2_col2\" class=\"data row2 col2\" >$44.10</td>\n",
       "            </tr>\n",
       "            <tr>\n",
       "                        <th id=\"T_29444914_f79f_11ea_82cb_b05cda398ec3level0_row3\" class=\"row_heading level0 row3\" >145</th>\n",
       "                        <th id=\"T_29444914_f79f_11ea_82cb_b05cda398ec3level1_row3\" class=\"row_heading level1 row3\" >Fiery Glass Crusader</th>\n",
       "                        <td id=\"T_29444914_f79f_11ea_82cb_b05cda398ec3row3_col0\" class=\"data row3 col0\" >9</td>\n",
       "                        <td id=\"T_29444914_f79f_11ea_82cb_b05cda398ec3row3_col1\" class=\"data row3 col1\" >$4.58</td>\n",
       "                        <td id=\"T_29444914_f79f_11ea_82cb_b05cda398ec3row3_col2\" class=\"data row3 col2\" >$41.22</td>\n",
       "            </tr>\n",
       "            <tr>\n",
       "                        <th id=\"T_29444914_f79f_11ea_82cb_b05cda398ec3level0_row4\" class=\"row_heading level0 row4\" >103</th>\n",
       "                        <th id=\"T_29444914_f79f_11ea_82cb_b05cda398ec3level1_row4\" class=\"row_heading level1 row4\" >Singed Scalpel</th>\n",
       "                        <td id=\"T_29444914_f79f_11ea_82cb_b05cda398ec3row4_col0\" class=\"data row4 col0\" >8</td>\n",
       "                        <td id=\"T_29444914_f79f_11ea_82cb_b05cda398ec3row4_col1\" class=\"data row4 col1\" >$4.35</td>\n",
       "                        <td id=\"T_29444914_f79f_11ea_82cb_b05cda398ec3row4_col2\" class=\"data row4 col2\" >$34.80</td>\n",
       "            </tr>\n",
       "    </tbody></table>"
      ],
      "text/plain": [
       "<pandas.io.formats.style.Styler at 0x2393aa40ca0>"
      ]
     },
     "execution_count": 10,
     "metadata": {},
     "output_type": "execute_result"
    }
   ],
   "source": [
    "#Use the data above to obtain total purchase descending order\n",
    "top_5_popular=most_popular_df.sort_values([\"Total Purchase Value\"], ascending = False).head()\n",
    "top_5_popular.style.format({\"Item Price\":\"${:.2f}\",\n",
    "                                           \"Total Purchase Value\":\"${:.2f}\"})"
   ]
  }
 ],
 "metadata": {
  "anaconda-cloud": {},
  "kernel_info": {
   "name": "python3"
  },
  "kernelspec": {
   "display_name": "Python 3",
   "language": "python",
   "name": "python3"
  },
  "language_info": {
   "codemirror_mode": {
    "name": "ipython",
    "version": 3
   },
   "file_extension": ".py",
   "mimetype": "text/x-python",
   "name": "python",
   "nbconvert_exporter": "python",
   "pygments_lexer": "ipython3",
   "version": "3.8.3"
  },
  "latex_envs": {
   "LaTeX_envs_menu_present": true,
   "autoclose": false,
   "autocomplete": true,
   "bibliofile": "biblio.bib",
   "cite_by": "apalike",
   "current_citInitial": 1,
   "eqLabelWithNumbers": true,
   "eqNumInitial": 1,
   "hotkeys": {
    "equation": "Ctrl-E",
    "itemize": "Ctrl-I"
   },
   "labels_anchors": false,
   "latex_user_defs": false,
   "report_style_numbering": false,
   "user_envs_cfg": false
  },
  "nteract": {
   "version": "0.2.0"
  }
 },
 "nbformat": 4,
 "nbformat_minor": 2
}
